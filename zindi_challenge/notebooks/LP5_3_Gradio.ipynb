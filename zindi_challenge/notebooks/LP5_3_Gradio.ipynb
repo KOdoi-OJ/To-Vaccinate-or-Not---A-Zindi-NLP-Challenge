{
  "nbformat": 4,
  "nbformat_minor": 0,
  "metadata": {
    "colab": {
      "provenance": []
    },
    "kernelspec": {
      "name": "python3",
      "display_name": "Python 3"
    },
    "language_info": {
      "name": "python"
    }
  },
  "cells": [
    {
      "cell_type": "code",
      "execution_count": null,
      "metadata": {
        "id": "74OfXRNWLvwc"
      },
      "outputs": [],
      "source": [
        "# Install Gradio\n",
        "!pip install gradio transformers -q\n",
        "\n",
        "# Import the required Libraries\n",
        "import gradio as gr\n",
        "import numpy as np\n",
        "import pandas as pd\n",
        "import pickle\n",
        "import transformers\n",
        "\n",
        "from transformers import AutoTokenizer, AutoConfig, AutoModelForSequenceClassification, TFAutoModelForSequenceClassification\n",
        "from scipy.special import softmax"
      ]
    },
    {
      "cell_type": "markdown",
      "source": [
        "## App 1"
      ],
      "metadata": {
        "id": "QDBHISOQNeLY"
      }
    },
    {
      "cell_type": "code",
      "source": [
        "# Requirements\n",
        "model_path = \"KwameOO/covid-tweet-sentiment-analyzer-roberta\"\n",
        "tokenizer = AutoTokenizer.from_pretrained(model_path)\n",
        "config = AutoConfig.from_pretrained(model_path)\n",
        "model = AutoModelForSequenceClassification.from_pretrained(model_path)\n",
        "\n",
        "# Preprocess text (username and link placeholders)\n",
        "def preprocess(text):\n",
        "    new_text = []\n",
        "    for t in text.split(\" \"):\n",
        "        t = \"@user\" if t.startswith(\"@\") and len(t) > 1 else t\n",
        "        t = \"http\" if t.startswith(\"http\") else t\n",
        "        new_text.append(t)\n",
        "    return \" \".join(new_text)\n",
        "\n",
        "# ---- Function to process the input and return prediction\n",
        "def sentiment_analysis(text):\n",
        "    text = preprocess(text)\n",
        "\n",
        "    encoded_input = tokenizer(text, return_tensors = \"pt\") # for PyTorch-based models\n",
        "    output = model(**encoded_input)\n",
        "    scores_ = output[0][0].detach().numpy()\n",
        "    scores_ = softmax(scores_)\n",
        "    \n",
        "    # Format output dict of scores\n",
        "    labels = [\"Negative\", \"Neutral\", \"Positive\"]\n",
        "    scores = {l:float(s) for (l,s) in zip(labels, scores_) }\n",
        "    \n",
        "    return scores\n",
        "\n",
        "\n",
        "# ---- Gradio app interface\n",
        "app = gr.Interface(fn = sentiment_analysis,\n",
        "                   inputs = gr.Textbox(\"Write your text or tweet here...\"),\n",
        "                   outputs = \"label\",\n",
        "                   title = \"Sentiment Analysis of Tweets on COVID-19 Vaccines\",\n",
        "                   description  = \"To vaccinate or not? This app analyzes sentiment of text based on tweets tweets about COVID-19 Vaccines using a fine-tuned roBERTA model\",\n",
        "                   interpretation = \"default\",\n",
        "                   examples = [[\"The idea of a vaccine in record time sure sounds interesting!\"]]\n",
        "                   )\n",
        "\n",
        "app.launch()"
      ],
      "metadata": {
        "colab": {
          "base_uri": "https://localhost:8080/",
          "height": 619
        },
        "id": "avqH0tE0MkUC",
        "outputId": "e8212c21-aa8e-4c3a-bc48-a2aa76ed207a"
      },
      "execution_count": null,
      "outputs": [
        {
          "output_type": "stream",
          "name": "stdout",
          "text": [
            "Colab notebook detected. To show errors in colab notebook, set debug=True in launch()\n",
            "Note: opening Chrome Inspector may crash demo inside Colab notebooks.\n",
            "\n",
            "To create a public link, set `share=True` in `launch()`.\n"
          ]
        },
        {
          "output_type": "display_data",
          "data": {
            "text/plain": [
              "<IPython.core.display.Javascript object>"
            ],
            "application/javascript": [
              "(async (port, path, width, height, cache, element) => {\n",
              "                        if (!google.colab.kernel.accessAllowed && !cache) {\n",
              "                            return;\n",
              "                        }\n",
              "                        element.appendChild(document.createTextNode(''));\n",
              "                        const url = await google.colab.kernel.proxyPort(port, {cache});\n",
              "\n",
              "                        const external_link = document.createElement('div');\n",
              "                        external_link.innerHTML = `\n",
              "                            <div style=\"font-family: monospace; margin-bottom: 0.5rem\">\n",
              "                                Running on <a href=${new URL(path, url).toString()} target=\"_blank\">\n",
              "                                    https://localhost:${port}${path}\n",
              "                                </a>\n",
              "                            </div>\n",
              "                        `;\n",
              "                        element.appendChild(external_link);\n",
              "\n",
              "                        const iframe = document.createElement('iframe');\n",
              "                        iframe.src = new URL(path, url).toString();\n",
              "                        iframe.height = height;\n",
              "                        iframe.allow = \"autoplay; camera; microphone; clipboard-read; clipboard-write;\"\n",
              "                        iframe.width = width;\n",
              "                        iframe.style.border = 0;\n",
              "                        element.appendChild(iframe);\n",
              "                    })(7870, \"/\", \"100%\", 500, false, window.element)"
            ]
          },
          "metadata": {}
        },
        {
          "output_type": "execute_result",
          "data": {
            "text/plain": []
          },
          "metadata": {},
          "execution_count": 16
        }
      ]
    },
    {
      "cell_type": "markdown",
      "source": [
        "## App 2"
      ],
      "metadata": {
        "id": "gm-8RVZJNh3t"
      }
    },
    {
      "cell_type": "code",
      "source": [
        "# Load the fine-tuned model from the HF model hub\n",
        "model = transformers.AutoModel.from_pretrained(\"KwameOO/covid-tweet-sentiment-analyzer-roberta\")\n",
        "\n",
        "# Define a function that takes in input and processes it with the model\n",
        "def predict(inputs):\n",
        "    input_ids = transformers.BertTokenizer.from_pretrained(\"KwameOO/covid-tweet-sentiment-analyzer-roberta\").encode(inputs, return_tensors=\"pt\")\n",
        "    output = model(input_ids)[0]\n",
        "    return output\n",
        "\n",
        "# Create a Gradio interface for the model\n",
        "app = gr.Interface(fn=predict,\n",
        "                   inputs=gr.Textbox(prompt=\"Enter text here:\"),\n",
        "                   outputs=gr.Textbox(prompt= \"Predicted sentiment:\"),\n",
        "                   title = \"Sentiment Analysis of Tweets on COVID-19 Vaccines\",\n",
        "                   description  = \"To vaccinate or not? This app analyzes sentiment of text based on tweets tweets about COVID-19 Vaccines using a fine-tuned roBERTA model\"\n",
        "                   )\n",
        "\n",
        "# Launch the interface\n",
        "app.launch()"
      ],
      "metadata": {
        "colab": {
          "base_uri": "https://localhost:8080/",
          "height": 803
        },
        "id": "qeY3ZLW4Mkel",
        "outputId": "50fa97fb-6f33-483e-ffe2-dc40b9de5b35"
      },
      "execution_count": null,
      "outputs": [
        {
          "output_type": "stream",
          "name": "stderr",
          "text": [
            "Some weights of the model checkpoint at KwameOO/covid-tweet-sentiment-analyzer-roberta were not used when initializing RobertaModel: ['classifier.out_proj.bias', 'classifier.dense.weight', 'classifier.out_proj.weight', 'classifier.dense.bias']\n",
            "- This IS expected if you are initializing RobertaModel from the checkpoint of a model trained on another task or with another architecture (e.g. initializing a BertForSequenceClassification model from a BertForPreTraining model).\n",
            "- This IS NOT expected if you are initializing RobertaModel from the checkpoint of a model that you expect to be exactly identical (initializing a BertForSequenceClassification model from a BertForSequenceClassification model).\n",
            "Some weights of RobertaModel were not initialized from the model checkpoint at KwameOO/covid-tweet-sentiment-analyzer-roberta and are newly initialized: ['roberta.pooler.dense.bias', 'roberta.pooler.dense.weight']\n",
            "You should probably TRAIN this model on a down-stream task to be able to use it for predictions and inference.\n",
            "/usr/local/lib/python3.8/dist-packages/gradio/deprecation.py:43: UserWarning: You have unused kwarg parameters in Textbox, please remove them: {'prompt': 'Enter text here:'}\n",
            "  warnings.warn(\n",
            "/usr/local/lib/python3.8/dist-packages/gradio/deprecation.py:43: UserWarning: You have unused kwarg parameters in Textbox, please remove them: {'prompt': 'Predicted sentiment:'}\n",
            "  warnings.warn(\n"
          ]
        },
        {
          "output_type": "stream",
          "name": "stdout",
          "text": [
            "Colab notebook detected. To show errors in colab notebook, set debug=True in launch()\n",
            "Note: opening Chrome Inspector may crash demo inside Colab notebooks.\n",
            "\n",
            "To create a public link, set `share=True` in `launch()`.\n"
          ]
        },
        {
          "output_type": "display_data",
          "data": {
            "text/plain": [
              "<IPython.core.display.Javascript object>"
            ],
            "application/javascript": [
              "(async (port, path, width, height, cache, element) => {\n",
              "                        if (!google.colab.kernel.accessAllowed && !cache) {\n",
              "                            return;\n",
              "                        }\n",
              "                        element.appendChild(document.createTextNode(''));\n",
              "                        const url = await google.colab.kernel.proxyPort(port, {cache});\n",
              "\n",
              "                        const external_link = document.createElement('div');\n",
              "                        external_link.innerHTML = `\n",
              "                            <div style=\"font-family: monospace; margin-bottom: 0.5rem\">\n",
              "                                Running on <a href=${new URL(path, url).toString()} target=\"_blank\">\n",
              "                                    https://localhost:${port}${path}\n",
              "                                </a>\n",
              "                            </div>\n",
              "                        `;\n",
              "                        element.appendChild(external_link);\n",
              "\n",
              "                        const iframe = document.createElement('iframe');\n",
              "                        iframe.src = new URL(path, url).toString();\n",
              "                        iframe.height = height;\n",
              "                        iframe.allow = \"autoplay; camera; microphone; clipboard-read; clipboard-write;\"\n",
              "                        iframe.width = width;\n",
              "                        iframe.style.border = 0;\n",
              "                        element.appendChild(iframe);\n",
              "                    })(7863, \"/\", \"100%\", 500, false, window.element)"
            ]
          },
          "metadata": {}
        },
        {
          "output_type": "execute_result",
          "data": {
            "text/plain": []
          },
          "metadata": {},
          "execution_count": 7
        }
      ]
    },
    {
      "cell_type": "code",
      "source": [],
      "metadata": {
        "id": "-ISBwM0tMkln"
      },
      "execution_count": null,
      "outputs": []
    },
    {
      "cell_type": "code",
      "source": [],
      "metadata": {
        "id": "wzb4eCQvMkqi"
      },
      "execution_count": null,
      "outputs": []
    },
    {
      "cell_type": "code",
      "source": [],
      "metadata": {
        "id": "pO-umh4DMkvn"
      },
      "execution_count": null,
      "outputs": []
    }
  ]
}